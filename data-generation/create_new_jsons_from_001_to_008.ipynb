{
 "cells": [
  {
   "cell_type": "markdown",
   "metadata": {},
   "source": [
    "## Python Notebook to create configuration from 001 to 008\n",
    "This script processes the Cityscapes dataset by selectively removing certain categories (specified by their IDs) from the training data's annotations. The modified annotations are then saved into a new JSON file, which could be used for training a model with a different subset of categories or for other purposes."
   ]
  },
  {
   "cell_type": "markdown",
   "metadata": {},
   "source": [
    "Conf 001 - remove labels [24]\n",
    "Conf 002 - remove labels [24, 25]\n",
    "Conf 003 - remove labels [24, 25, 26]\n",
    "Conf 004 - remove labels [24, 25, 26, 27]\n",
    "Conf 005 - remove labels [24, 25, 26, 27, 28]\n",
    "Conf 006 - remove labels [24, 25, 26, 27, 28, 31]\n",
    "Conf 007 - remove labels [24, 25, 26, 27, 28, 31, 32]\n",
    "Conf 008 -  remove labels [24, 25, 26, 27, 28, 31, 32, 33]"
   ]
  },
  {
   "cell_type": "markdown",
   "metadata": {},
   "source": [
    "### 01 Import Libraries"
   ]
  },
  {
   "cell_type": "code",
   "execution_count": 66,
   "metadata": {},
   "outputs": [],
   "source": [
    "import os\n",
    "import json\n",
    "import random\n",
    "import shutil\n"
   ]
  },
  {
   "cell_type": "markdown",
   "metadata": {},
   "source": [
    "### 02 Setting Paths from Cityscapes json"
   ]
  },
  {
   "cell_type": "code",
   "execution_count": 67,
   "metadata": {},
   "outputs": [],
   "source": [
    "path_dataset=os.path.join(\"/Users/gaetanbrison/Documents/GitHub/hi-paris/Image-Segmentation/fc-clip/datasets/\", \"cityscapes\")\n",
    "path_getFine=os.path.join(path_dataset, \"gtFine\")\n",
    "path_leftImg8bit=os.path.join(path_dataset, \"leftImg8bit\")"
   ]
  },
  {
   "cell_type": "code",
   "execution_count": 68,
   "metadata": {},
   "outputs": [],
   "source": [
    "path_getFine_train=os.path.join(path_getFine, \"train\")\n",
    "path_getFine_val=os.path.join(path_getFine, \"val\")\n",
    "path_getFine_test=os.path.join(path_getFine, \"test\")\n",
    "\n",
    "path_getFine_cityscapes_panoptic_train=os.path.join(path_getFine, \"cityscapes_panoptic_train\")\n",
    "path_getFine_cityscapes_panoptic_val=os.path.join(path_getFine, \"cityscapes_panoptic_val\")\n",
    "path_getFine_cityscapes_panoptic_test=os.path.join(path_getFine, \"cityscapes_panoptic_test\")\n",
    "\n",
    "cityscapes_panoptic_train=os.path.join(path_getFine, \"cityscapes_panoptic_train.json\")\n",
    "cityscapes_panoptic_val=os.path.join(path_getFine, \"cityscapes_panoptic_val.json\")\n",
    "cityscapes_panoptic_test=os.path.join(path_getFine, \"cityscapes_panoptic_test.json\")\n"
   ]
  },
  {
   "cell_type": "code",
   "execution_count": 69,
   "metadata": {},
   "outputs": [
    {
     "data": {
      "text/plain": [
       "'/Users/gaetanbrison/Documents/GitHub/hi-paris/Image-Segmentation/fc-clip/datasets/cityscapes/gtFine/cityscapes_panoptic_train.json'"
      ]
     },
     "execution_count": 69,
     "metadata": {},
     "output_type": "execute_result"
    }
   ],
   "source": [
    "cityscapes_panoptic_train"
   ]
  },
  {
   "cell_type": "markdown",
   "metadata": {},
   "source": [
    "### 03  Get the classes to be removed from cityscape train"
   ]
  },
  {
   "cell_type": "code",
   "execution_count": 70,
   "metadata": {},
   "outputs": [],
   "source": [
    "per=7\n",
    "def get_per_lab(ind):\n",
    "    list_of_labels=[24, 25, 26, 27, 28, 31, 32, 33]\n",
    "    \n",
    "    return list_of_labels[0:ind+1]\n",
    "\n",
    "labels_to_be_mv=get_per_lab(per)"
   ]
  },
  {
   "cell_type": "code",
   "execution_count": 71,
   "metadata": {},
   "outputs": [
    {
     "data": {
      "text/plain": [
       "[24, 25, 26, 27, 28, 31, 32, 33]"
      ]
     },
     "execution_count": 71,
     "metadata": {},
     "output_type": "execute_result"
    }
   ],
   "source": [
    "labels_to_be_mv"
   ]
  },
  {
   "cell_type": "markdown",
   "metadata": {},
   "source": [
    "### 03 Read Panoptic & Remove labels not needed\n"
   ]
  },
  {
   "cell_type": "code",
   "execution_count": 72,
   "metadata": {},
   "outputs": [
    {
     "name": "stdout",
     "output_type": "stream",
     "text": [
      "dict_keys(['annotations', 'categories', 'images'])\n",
      "19 2975 2975\n",
      "{'file_name': 'aachen_000000_000019_gtFine_leftImg8bit.png', 'height': 1024, 'id': 'aachen_000000_000019', 'width': 2048}\n",
      "{'color': [128, 64, 128], 'id': 7, 'isthing': 0, 'name': 'road', 'supercategory': 'flat'}\n"
     ]
    }
   ],
   "source": [
    "with open(cityscapes_panoptic_train, 'r') as json_file:\n",
    "    data = json.load(json_file)\n",
    "print(data.keys())\n",
    "print(len(data['categories']),len(data['images']),len(data['annotations']))\n",
    "print(data['images'][0])\n",
    "print(data['categories'][0])"
   ]
  },
  {
   "cell_type": "markdown",
   "metadata": {},
   "source": [
    "This loop iterates over all the annotations in the training data. For each annotation, it checks if the category_id is in the list of labels to be moved (labels_to_be_mv). If it's not, the segment info is kept; otherwise, it's removed."
   ]
  },
  {
   "cell_type": "code",
   "execution_count": 73,
   "metadata": {},
   "outputs": [],
   "source": [
    "for i in range(len(data['annotations'])):\n",
    "    list_l=[]\n",
    "    for j in range(len(data['annotations'][i][\"segments_info\"])):\n",
    "        if data['annotations'][i][\"segments_info\"][j]['category_id'] not in labels_to_be_mv:\n",
    "            list_l.append(data['annotations'][i][\"segments_info\"][j])\n",
    "    data['annotations'][i][\"segments_info\"]=list_l\n",
    "        \n",
    "    \n",
    "    "
   ]
  },
  {
   "cell_type": "markdown",
   "metadata": {},
   "source": [
    "This loop removes categories from the data['categories'] list if their id is in labels_to_be_mv."
   ]
  },
  {
   "cell_type": "code",
   "execution_count": 74,
   "metadata": {},
   "outputs": [],
   "source": [
    "list_n=[]\n",
    "for i in range(len(data['categories'])):\n",
    "    if data['categories'][i]['id'] not in labels_to_be_mv:\n",
    "        list_n.append(data['categories'][i])\n",
    "data['categories']=list_n"
   ]
  },
  {
   "cell_type": "markdown",
   "metadata": {},
   "source": [
    "### 05 Saving the Modified Data to a New JSON File"
   ]
  },
  {
   "cell_type": "code",
   "execution_count": 76,
   "metadata": {},
   "outputs": [],
   "source": [
    "# Specify the file path\n",
    "file_path = '/Users/gaetanbrison/Documents/GitHub/hi-paris/Image-Segmentation/fc-clip/datasets/cityscapes/gtFine/cityscapes_panoptic_train_'+str(per+1)+'.json'\n",
    "\n",
    "# Write dictionary to JSON file\n",
    "with open(file_path, 'w') as json_file:\n",
    "    json.dump(data, json_file)"
   ]
  }
 ],
 "metadata": {
  "kernelspec": {
   "display_name": "fcclip",
   "language": "python",
   "name": "python3"
  },
  "language_info": {
   "codemirror_mode": {
    "name": "ipython",
    "version": 3
   },
   "file_extension": ".py",
   "mimetype": "text/x-python",
   "name": "python",
   "nbconvert_exporter": "python",
   "pygments_lexer": "ipython3",
   "version": "3.9.12"
  },
  "orig_nbformat": 4
 },
 "nbformat": 4,
 "nbformat_minor": 2
}
