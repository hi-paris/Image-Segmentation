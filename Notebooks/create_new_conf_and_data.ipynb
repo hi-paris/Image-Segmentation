{
 "cells": [
  {
   "cell_type": "code",
   "execution_count": 1,
   "metadata": {},
   "outputs": [],
   "source": [
    "import cv2\n",
    "import os\n",
    "import json"
   ]
  },
  {
   "cell_type": "code",
   "execution_count": 2,
   "metadata": {},
   "outputs": [],
   "source": [
    "path_fold='/home/ids/gbrison/FC/fc-clip/datasets/cityscapes/gtFine/cityscapes_panoptic_train_old'\n",
    "new_path_fold='/home/ids/gbrison/FC/fc-clip/datasets/cityscapes/gtFine/cityscapes_panoptic_train'\n",
    "path_train='/home/ids/gbrison/FC/fc-clip/datasets/cityscapes/gtFine/cityscapes_panoptic_train_old.json'"
   ]
  },
  {
   "cell_type": "code",
   "execution_count": 3,
   "metadata": {},
   "outputs": [
    {
     "data": {
      "text/plain": [
       "[24]"
      ]
     },
     "execution_count": 3,
     "metadata": {},
     "output_type": "execute_result"
    }
   ],
   "source": [
    "per=0\n",
    "def get_per_lab(ind):\n",
    "    list_of_labels=[24, 25, 26, 27, 28, 31, 32, 33]\n",
    "    return list_of_labels[0:ind+1]\n",
    "labels_to_be_mv=get_per_lab(per)\n",
    "labels_to_be_mv"
   ]
  },
  {
   "cell_type": "code",
   "execution_count": 4,
   "metadata": {},
   "outputs": [],
   "source": [
    "with open(path_train, 'r') as json_file:\n",
    "    data = json.load(json_file)"
   ]
  },
  {
   "cell_type": "code",
   "execution_count": 5,
   "metadata": {},
   "outputs": [],
   "source": [
    "for i in range(len(data['annotations'])):\n",
    "    list_l=[]\n",
    "    for j in range(len(data['annotations'][i][\"segments_info\"])):\n",
    "        \n",
    "        if data['annotations'][i][\"segments_info\"][j]['category_id'] not in labels_to_be_mv:\n",
    "            list_l.append(data['annotations'][i][\"segments_info\"][j]) \n",
    "        else:\n",
    "            data['annotations'][i][\"segments_info\"][j]['category_id']=0\n",
    "            list_l.append(data['annotations'][i][\"segments_info\"][j]) \n",
    "\n",
    "    data['annotations'][i][\"segments_info\"]=list_l"
   ]
  },
  {
   "cell_type": "code",
   "execution_count": 6,
   "metadata": {},
   "outputs": [],
   "source": [
    "file_path = '/home/ids/gbrison/FC/fc-clip/datasets/cityscapes/gtFine/cityscapes_panoptic_train.json'# _'+str(per+1)+'\n",
    "\n",
    "# Write dictionary to JSON file\n",
    "with open(file_path, 'w') as json_file:\n",
    "    json.dump(data, json_file)"
   ]
  }
 ],
 "metadata": {
  "kernelspec": {
   "display_name": "v",
   "language": "python",
   "name": "python3"
  },
  "language_info": {
   "codemirror_mode": {
    "name": "ipython",
    "version": 3
   },
   "file_extension": ".py",
   "mimetype": "text/x-python",
   "name": "python",
   "nbconvert_exporter": "python",
   "pygments_lexer": "ipython3",
   "version": "3.10.12"
  },
  "orig_nbformat": 4
 },
 "nbformat": 4,
 "nbformat_minor": 2
}
