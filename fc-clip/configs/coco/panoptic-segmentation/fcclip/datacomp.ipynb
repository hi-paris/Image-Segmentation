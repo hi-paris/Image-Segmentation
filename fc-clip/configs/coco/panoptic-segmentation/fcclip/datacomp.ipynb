{
 "cells": [
  {
   "cell_type": "code",
   "execution_count": null,
   "metadata": {},
   "outputs": [],
   "source": []
  },
  {
   "cell_type": "code",
   "execution_count": 1,
   "metadata": {},
   "outputs": [],
   "source": [
    "import os"
   ]
  },
  {
   "cell_type": "code",
   "execution_count": 2,
   "metadata": {},
   "outputs": [],
   "source": [
    "destination_path=\"/tsi/hi-paris/Datacomp_Datasets/vf\"\n",
    "destination_path_metadata=os.path.join(destination_path,\"metadata\")\n",
    "destination_path_shards=os.path.join(destination_path,\"shards\")"
   ]
  },
  {
   "cell_type": "code",
   "execution_count": 3,
   "metadata": {},
   "outputs": [],
   "source": [
    "path_data=\"/tsi/hi-paris/Datacomp_Datasets/\"\n",
    "path_medium=os.path.join(path_data, \"medium\")\n",
    "path_medium2=os.path.join(path_data, \"medium2\")\n",
    "path_medium3=os.path.join(path_data, \"medium3\")\n",
    "path_medium4=os.path.join(path_data, \"medium4\")\n",
    "path_medium5=os.path.join(path_data, \"medium5\")\n",
    "path_medium6=os.path.join(path_data, \"medium6\")\n",
    "\n",
    "metadata=\"metadata\"\n",
    "shards=\"shards\"\n",
    "hagin=\"metadata/.huggingface/download\""
   ]
  },
  {
   "cell_type": "code",
   "execution_count": 4,
   "metadata": {},
   "outputs": [],
   "source": [
    "def get_list_files(s_path):\n",
    "    li=[]\n",
    "    for i in os.listdir(s_path):\n",
    "        li.append(i)\n",
    "    return li\n",
    "\n",
    "def get_ids(list_i):\n",
    "    list_ids=[]\n",
    "    for i in list_i:\n",
    "        m=i.split('.')\n",
    "        if m[1] in (\"parquet\", \"tar\"):\n",
    "            if m[0] not in list_ids:\n",
    "                list_ids.append(m[0])\n",
    "        else:\n",
    "            mm=m[0].split(\"_\")\n",
    "            if mm[0] not in list_ids:\n",
    "                list_ids.append(mm[0])\n",
    "\n",
    "    return list_ids\n",
    "\n",
    "\n",
    "def mov_files(path_source, path_destination, list_source,list_destination):\n",
    "    os.makedirs(path_destination, exist_ok=True)\n",
    "    for i,j in zip(list_source,list_destination):\n",
    "        os.rename(os.path.join(path_source,i), os.path.join(path_destination,j))\n",
    "\n",
    "\n",
    "def create_path_from_ids(list_or_ids,list_new_ids):\n",
    "    list_or_path,list_new_path=[],[]\n",
    "    for i,j in zip(list_or_ids, list_new_ids):\n",
    "        list_or_path.append(i+\".parquet\")\n",
    "        list_or_path.append(i+\".tar\")\n",
    "        list_or_path.append(i+\"_stats.json\")\n",
    "        list_new_path.append(j+\".parquet\")\n",
    "        list_new_path.append(j+\".tar\")\n",
    "        list_new_path.append(j+\"_stats.json\")\n",
    "    return list_or_path,list_new_path\n",
    "\n",
    "\n",
    "def create_pack(path_source,path_destination,old_ids, start_index):\n",
    "    \n",
    "    \n",
    "    end_index=start_index+len(old_ids)\n",
    "    print(\"end index : \", end_index)\n",
    "    new_ids=[str(i).zfill(8) for i in range(start_index, end_index)]\n",
    "    old_paths,new_paths=create_path_from_ids(old_ids,new_ids)\n",
    "    print(len(old_paths),len(new_paths))\n",
    "    return old_paths, new_paths\n",
    "    \n",
    "\n"
   ]
  },
  {
   "cell_type": "code",
   "execution_count": 5,
   "metadata": {},
   "outputs": [],
   "source": [
    "s_path=os.path.join(path_medium,\"shards\") \n",
    "files=get_list_files(s_path) \n",
    "if \"_tmp\" in files:\n",
    "    files.remove(\"_tmp\")\n",
    "old_ids=get_ids(files)\n",
    "old_ids.sort() \n"
   ]
  },
  {
   "cell_type": "code",
   "execution_count": 26,
   "metadata": {},
   "outputs": [
    {
     "data": {
      "text/plain": [
       "1950"
      ]
     },
     "execution_count": 26,
     "metadata": {},
     "output_type": "execute_result"
    }
   ],
   "source": [
    "len(old_ids)"
   ]
  },
  {
   "cell_type": "code",
   "execution_count": 41,
   "metadata": {},
   "outputs": [],
   "source": [
    "old_ids.remove(\"00001051\")"
   ]
  },
  {
   "cell_type": "code",
   "execution_count": 39,
   "metadata": {},
   "outputs": [
    {
     "name": "stdout",
     "output_type": "stream",
     "text": [
      "end index :  16115\n",
      "1050 1050\n"
     ]
    }
   ],
   "source": [
    "old_paths, new_paths=create_pack(s_path,s_path,old_ids[1600:], 15765)#11833"
   ]
  },
  {
   "cell_type": "code",
   "execution_count": 40,
   "metadata": {},
   "outputs": [],
   "source": [
    "for i , j in zip(old_paths, new_paths):\n",
    "    if i not in files:\n",
    "        print(i,j)\n",
    "\n",
    "        mm=i.split('.')\n",
    "        print(mm)\n",
    "        if mm[1]==\"parquet\":\n",
    "            old_ids.remove(mm[0])\n",
    "        if mm[1]==\"tar\":\n",
    "            old_ids.remove(mm[0])\n",
    "        old_paths.remove(i)\n",
    "        new_paths.remove(j)"
   ]
  },
  {
   "cell_type": "code",
   "execution_count": 41,
   "metadata": {},
   "outputs": [],
   "source": [
    "mov_files(s_path, os.path.join(destination_path_shards,\"pack42\"), old_paths, new_paths)"
   ]
  },
  {
   "cell_type": "code",
   "execution_count": null,
   "metadata": {},
   "outputs": [],
   "source": []
  },
  {
   "cell_type": "code",
   "execution_count": 51,
   "metadata": {},
   "outputs": [],
   "source": [
    "pack42=\"/tsi/hi-paris/Datacomp_Datasets/vf/shards/pack42\""
   ]
  },
  {
   "cell_type": "code",
   "execution_count": 52,
   "metadata": {},
   "outputs": [],
   "source": [
    "f=[]\n",
    "for i in os.listdir(pack42):\n",
    "    f.append(i)"
   ]
  },
  {
   "cell_type": "code",
   "execution_count": 53,
   "metadata": {},
   "outputs": [
    {
     "data": {
      "text/plain": [
       "1524"
      ]
     },
     "execution_count": 53,
     "metadata": {},
     "output_type": "execute_result"
    }
   ],
   "source": [
    "len(f)"
   ]
  },
  {
   "cell_type": "code",
   "execution_count": 54,
   "metadata": {},
   "outputs": [],
   "source": [
    "len(f)\n",
    "f_=f[1125:]\n"
   ]
  },
  {
   "cell_type": "code",
   "execution_count": 55,
   "metadata": {},
   "outputs": [],
   "source": [
    "for i in f_:\n",
    "    os.rename(os.path.join(\"/tsi/hi-paris/Datacomp_Datasets/vf/shards/pack42\",i), os.path.join(\"/tsi/hi-paris/Datacomp_Datasets/vf/shards/pack43\",i))\n",
    "    "
   ]
  },
  {
   "cell_type": "code",
   "execution_count": 100,
   "metadata": {},
   "outputs": [],
   "source": [
    "def move_meta(path,destination):\n",
    "    for i in os.listdir(path):\n",
    "         if i != \".huggingface\":\n",
    "             os.rename(os.path.join(path,i), os.path.join(destination,i))\n"
   ]
  },
  {
   "cell_type": "code",
   "execution_count": 124,
   "metadata": {},
   "outputs": [],
   "source": [
    "src_p=\"/tsi/hi-paris/Datacomp_Datasets/medium3/metadata/.huggingface/download\"\n",
    "dest_p=\"/tsi/hi-paris/Datacomp_Datasets/medium/metadata/.huggingface/download\"\n",
    "src_p_d=\"/tsi/hi-paris/Datacomp_Datasets/medium3/metadata\"\n",
    "dest_p_d=\"/tsi/hi-paris/Datacomp_Datasets/medium/metadata\"\n",
    "\n",
    "move_meta(src_p,dest_p)\n",
    "move_meta(src_p_d,dest_p_d)"
   ]
  },
  {
   "cell_type": "code",
   "execution_count": null,
   "metadata": {},
   "outputs": [],
   "source": []
  },
  {
   "cell_type": "code",
   "execution_count": 125,
   "metadata": {},
   "outputs": [],
   "source": [
    "import pandas as pd"
   ]
  },
  {
   "cell_type": "code",
   "execution_count": 136,
   "metadata": {},
   "outputs": [
    {
     "ename": "ValueError",
     "evalue": "non-hexadecimal number found in fromhex() arg at position 63",
     "output_type": "error",
     "traceback": [
      "\u001b[0;31m---------------------------------------------------------------------------\u001b[0m",
      "\u001b[0;31mValueError\u001b[0m                                Traceback (most recent call last)",
      "\u001b[1;32m/home/ids/ext-4208/FC/fc-clip/configs/coco/panoptic-segmentation/fcclip/datacomp.ipynb Cell 19\u001b[0m line \u001b[0;36m4\n\u001b[1;32m      <a href='vscode-notebook-cell://ssh-remote%2Bgpu-gw/home/ids/ext-4208/FC/fc-clip/configs/coco/panoptic-segmentation/fcclip/datacomp.ipynb#X26sdnNjb2RlLXJlbW90ZQ%3D%3D?line=0'>1</a>\u001b[0m data_hex \u001b[39m=\u001b[39m \u001b[39m\"\u001b[39m\u001b[39md09a09293ed86889d6812f529f99bb65b732b76b1b3f36723fa6476a21496fb\u001b[39m\u001b[39m\"\u001b[39m\n\u001b[1;32m      <a href='vscode-notebook-cell://ssh-remote%2Bgpu-gw/home/ids/ext-4208/FC/fc-clip/configs/coco/panoptic-segmentation/fcclip/datacomp.ipynb#X26sdnNjb2RlLXJlbW90ZQ%3D%3D?line=2'>3</a>\u001b[0m \u001b[39m# Convertir les données hexadécimales en octets\u001b[39;00m\n\u001b[0;32m----> <a href='vscode-notebook-cell://ssh-remote%2Bgpu-gw/home/ids/ext-4208/FC/fc-clip/configs/coco/panoptic-segmentation/fcclip/datacomp.ipynb#X26sdnNjb2RlLXJlbW90ZQ%3D%3D?line=3'>4</a>\u001b[0m data_bytes \u001b[39m=\u001b[39m \u001b[39mbytes\u001b[39;49m\u001b[39m.\u001b[39;49mfromhex(data_hex)\n\u001b[1;32m      <a href='vscode-notebook-cell://ssh-remote%2Bgpu-gw/home/ids/ext-4208/FC/fc-clip/configs/coco/panoptic-segmentation/fcclip/datacomp.ipynb#X26sdnNjb2RlLXJlbW90ZQ%3D%3D?line=5'>6</a>\u001b[0m \u001b[39m# Afficher les données binaires\u001b[39;00m\n\u001b[1;32m      <a href='vscode-notebook-cell://ssh-remote%2Bgpu-gw/home/ids/ext-4208/FC/fc-clip/configs/coco/panoptic-segmentation/fcclip/datacomp.ipynb#X26sdnNjb2RlLXJlbW90ZQ%3D%3D?line=6'>7</a>\u001b[0m \u001b[39mprint\u001b[39m(\u001b[39m\"\u001b[39m\u001b[39mDonnées binaires décodées :\u001b[39m\u001b[39m\"\u001b[39m)\n",
      "\u001b[0;31mValueError\u001b[0m: non-hexadecimal number found in fromhex() arg at position 63"
     ]
    }
   ],
   "source": [
    "data_hex = \"d09a09293ed86889d6812f529f99bb65b732b76b1b3f36723fa6476a21496fb\"\n",
    "\n",
    "# Convertir les données hexadécimales en octets\n",
    "data_bytes = bytes.fromhex(data_hex)\n",
    "\n",
    "# Afficher les données binaires\n",
    "print(\"Données binaires décodées :\")\n",
    "print(data_bytes)"
   ]
  },
  {
   "cell_type": "code",
   "execution_count": 138,
   "metadata": {},
   "outputs": [
    {
     "data": {
      "text/plain": [
       "(406, 203)"
      ]
     },
     "execution_count": 138,
     "metadata": {},
     "output_type": "execute_result"
    }
   ],
   "source": [
    "p,pp"
   ]
  },
  {
   "cell_type": "code",
   "execution_count": 142,
   "metadata": {},
   "outputs": [],
   "source": [
    "import pandas as pd"
   ]
  },
  {
   "cell_type": "code",
   "execution_count": 146,
   "metadata": {},
   "outputs": [
    {
     "ename": "ImportError",
     "evalue": "Unable to find a usable engine; tried using: 'pyarrow', 'fastparquet'.\nA suitable version of pyarrow or fastparquet is required for parquet support.\nTrying to import the above resulted in these errors:\n - Missing optional dependency 'pyarrow'. pyarrow is required for parquet support. Use pip or conda to install pyarrow.\n - Missing optional dependency 'fastparquet'. fastparquet is required for parquet support. Use pip or conda to install fastparquet.",
     "output_type": "error",
     "traceback": [
      "\u001b[0;31m---------------------------------------------------------------------------\u001b[0m",
      "\u001b[0;31mImportError\u001b[0m                               Traceback (most recent call last)",
      "\u001b[1;32m/home/ids/ext-4208/FC/fc-clip/configs/coco/panoptic-segmentation/fcclip/datacomp.ipynb Cell 22\u001b[0m line \u001b[0;36m1\n\u001b[0;32m----> <a href='vscode-notebook-cell://ssh-remote%2Bgpu-gw/home/ids/ext-4208/FC/fc-clip/configs/coco/panoptic-segmentation/fcclip/datacomp.ipynb#X31sdnNjb2RlLXJlbW90ZQ%3D%3D?line=0'>1</a>\u001b[0m a\u001b[39m=\u001b[39mpd\u001b[39m.\u001b[39;49mread_parquet(\u001b[39m\"\u001b[39;49m\u001b[39m/tsi/hi-paris/Datacomp_Datasets/medium/metadata/1e72542b65bdbb87aacee8dc4dc77108.parquet\u001b[39;49m\u001b[39m\"\u001b[39;49m)\n",
      "File \u001b[0;32m~/FC/venv/lib/python3.10/site-packages/pandas/io/parquet.py:651\u001b[0m, in \u001b[0;36mread_parquet\u001b[0;34m(path, engine, columns, storage_options, use_nullable_dtypes, dtype_backend, filesystem, filters, **kwargs)\u001b[0m\n\u001b[1;32m    498\u001b[0m \u001b[39m@doc\u001b[39m(storage_options\u001b[39m=\u001b[39m_shared_docs[\u001b[39m\"\u001b[39m\u001b[39mstorage_options\u001b[39m\u001b[39m\"\u001b[39m])\n\u001b[1;32m    499\u001b[0m \u001b[39mdef\u001b[39;00m \u001b[39mread_parquet\u001b[39m(\n\u001b[1;32m    500\u001b[0m     path: FilePath \u001b[39m|\u001b[39m ReadBuffer[\u001b[39mbytes\u001b[39m],\n\u001b[0;32m   (...)\u001b[0m\n\u001b[1;32m    508\u001b[0m     \u001b[39m*\u001b[39m\u001b[39m*\u001b[39mkwargs,\n\u001b[1;32m    509\u001b[0m ) \u001b[39m-\u001b[39m\u001b[39m>\u001b[39m DataFrame:\n\u001b[1;32m    510\u001b[0m \u001b[39m    \u001b[39m\u001b[39m\"\"\"\u001b[39;00m\n\u001b[1;32m    511\u001b[0m \u001b[39m    Load a parquet object from the file path, returning a DataFrame.\u001b[39;00m\n\u001b[1;32m    512\u001b[0m \n\u001b[0;32m   (...)\u001b[0m\n\u001b[1;32m    648\u001b[0m \u001b[39m    1    4    9\u001b[39;00m\n\u001b[1;32m    649\u001b[0m \u001b[39m    \"\"\"\u001b[39;00m\n\u001b[0;32m--> 651\u001b[0m     impl \u001b[39m=\u001b[39m get_engine(engine)\n\u001b[1;32m    653\u001b[0m     \u001b[39mif\u001b[39;00m use_nullable_dtypes \u001b[39mis\u001b[39;00m \u001b[39mnot\u001b[39;00m lib\u001b[39m.\u001b[39mno_default:\n\u001b[1;32m    654\u001b[0m         msg \u001b[39m=\u001b[39m (\n\u001b[1;32m    655\u001b[0m             \u001b[39m\"\u001b[39m\u001b[39mThe argument \u001b[39m\u001b[39m'\u001b[39m\u001b[39muse_nullable_dtypes\u001b[39m\u001b[39m'\u001b[39m\u001b[39m is deprecated and will be removed \u001b[39m\u001b[39m\"\u001b[39m\n\u001b[1;32m    656\u001b[0m             \u001b[39m\"\u001b[39m\u001b[39min a future version.\u001b[39m\u001b[39m\"\u001b[39m\n\u001b[1;32m    657\u001b[0m         )\n",
      "File \u001b[0;32m~/FC/venv/lib/python3.10/site-packages/pandas/io/parquet.py:67\u001b[0m, in \u001b[0;36mget_engine\u001b[0;34m(engine)\u001b[0m\n\u001b[1;32m     64\u001b[0m         \u001b[39mexcept\u001b[39;00m \u001b[39mImportError\u001b[39;00m \u001b[39mas\u001b[39;00m err:\n\u001b[1;32m     65\u001b[0m             error_msgs \u001b[39m+\u001b[39m\u001b[39m=\u001b[39m \u001b[39m\"\u001b[39m\u001b[39m\\n\u001b[39;00m\u001b[39m - \u001b[39m\u001b[39m\"\u001b[39m \u001b[39m+\u001b[39m \u001b[39mstr\u001b[39m(err)\n\u001b[0;32m---> 67\u001b[0m     \u001b[39mraise\u001b[39;00m \u001b[39mImportError\u001b[39;00m(\n\u001b[1;32m     68\u001b[0m         \u001b[39m\"\u001b[39m\u001b[39mUnable to find a usable engine; \u001b[39m\u001b[39m\"\u001b[39m\n\u001b[1;32m     69\u001b[0m         \u001b[39m\"\u001b[39m\u001b[39mtried using: \u001b[39m\u001b[39m'\u001b[39m\u001b[39mpyarrow\u001b[39m\u001b[39m'\u001b[39m\u001b[39m, \u001b[39m\u001b[39m'\u001b[39m\u001b[39mfastparquet\u001b[39m\u001b[39m'\u001b[39m\u001b[39m.\u001b[39m\u001b[39m\\n\u001b[39;00m\u001b[39m\"\u001b[39m\n\u001b[1;32m     70\u001b[0m         \u001b[39m\"\u001b[39m\u001b[39mA suitable version of \u001b[39m\u001b[39m\"\u001b[39m\n\u001b[1;32m     71\u001b[0m         \u001b[39m\"\u001b[39m\u001b[39mpyarrow or fastparquet is required for parquet \u001b[39m\u001b[39m\"\u001b[39m\n\u001b[1;32m     72\u001b[0m         \u001b[39m\"\u001b[39m\u001b[39msupport.\u001b[39m\u001b[39m\\n\u001b[39;00m\u001b[39m\"\u001b[39m\n\u001b[1;32m     73\u001b[0m         \u001b[39m\"\u001b[39m\u001b[39mTrying to import the above resulted in these errors:\u001b[39m\u001b[39m\"\u001b[39m\n\u001b[1;32m     74\u001b[0m         \u001b[39mf\u001b[39m\u001b[39m\"\u001b[39m\u001b[39m{\u001b[39;00merror_msgs\u001b[39m}\u001b[39;00m\u001b[39m\"\u001b[39m\n\u001b[1;32m     75\u001b[0m     )\n\u001b[1;32m     77\u001b[0m \u001b[39mif\u001b[39;00m engine \u001b[39m==\u001b[39m \u001b[39m\"\u001b[39m\u001b[39mpyarrow\u001b[39m\u001b[39m\"\u001b[39m:\n\u001b[1;32m     78\u001b[0m     \u001b[39mreturn\u001b[39;00m PyArrowImpl()\n",
      "\u001b[0;31mImportError\u001b[0m: Unable to find a usable engine; tried using: 'pyarrow', 'fastparquet'.\nA suitable version of pyarrow or fastparquet is required for parquet support.\nTrying to import the above resulted in these errors:\n - Missing optional dependency 'pyarrow'. pyarrow is required for parquet support. Use pip or conda to install pyarrow.\n - Missing optional dependency 'fastparquet'. fastparquet is required for parquet support. Use pip or conda to install fastparquet."
     ]
    }
   ],
   "source": []
  }
 ],
 "metadata": {
  "kernelspec": {
   "display_name": "venv",
   "language": "python",
   "name": "python3"
  },
  "language_info": {
   "codemirror_mode": {
    "name": "ipython",
    "version": 3
   },
   "file_extension": ".py",
   "mimetype": "text/x-python",
   "name": "python",
   "nbconvert_exporter": "python",
   "pygments_lexer": "ipython3",
   "version": "3.10.12"
  },
  "orig_nbformat": 4
 },
 "nbformat": 4,
 "nbformat_minor": 2
}
